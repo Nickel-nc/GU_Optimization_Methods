{
 "cells": [
  {
   "cell_type": "markdown",
   "metadata": {},
   "source": [
    "## Условная и безусловная оптимизация"
   ]
  },
  {
   "cell_type": "code",
   "execution_count": 51,
   "metadata": {},
   "outputs": [],
   "source": [
    "import numpy as np\n",
    "import pandas as pd\n",
    "from itertools import combinations\n",
    "import random"
   ]
  },
  {
   "cell_type": "markdown",
   "metadata": {},
   "source": [
    "Задача 1\n",
    "\n",
    "Директор выделил машину под закупку оборудования, выделил достаточно большое количество денег и сказал: «Берите, что вам нужно, но не более 200 кг. И каждого товара берите не более одной единицы!» Есть прайс-лист на 2000 наименований.\n",
    "Стоимости товаров варьируются от 100 долл. до 5000 долл. с шагом 100 долл. Массы товаров варьируются от 1 до 150 кг с шагом в 1 кг.\n",
    "Зависимостей между массой и стоимостью нет (может выпасть товар массой 1 кг и стоимостью 5000 долл. и массой 150 кг и стоимостью 100 долл.\n",
    "1. Необходимо составить ЦФ для этой задачи, выбрать критерий оптимальности и...\n",
    "2. *...предложить алгоритм её решения.\n"
   ]
  },
  {
   "cell_type": "markdown",
   "metadata": {},
   "source": [
    "Обозначим критерий оптимальности, как максимум загрузки при максимальной стоимости,\n",
    "\n",
    "тогда формулировка задачи будет выглядеть следующим образом:\n",
    "\n",
    "$\n",
    "\\begin{equation*}\n",
    "x_{i}=\n",
    "\\begin{cases}\n",
    "    1, \\text{если i оборудование закупили}\n",
    "   \\\\\n",
    "   0, \\text{если не закупили}\n",
    " \\end{cases}\n",
    "\\end{equation*}\n",
    "$\n",
    "\n",
    "\n",
    "$P_1 = \\sum_{i=1}^{n} x_{i}m_{i} \\rightarrow m_{max}$ (максимальная загрузка по весу)\n",
    "\n",
    "$P_2 = \\sum_{i=1}^{n} x_{i}c_{i} \\rightarrow max$ (максимальная стоимость)\n",
    "\n",
    "Условия:\n",
    "\n",
    "$m_{max} = 200$\n",
    "\n",
    "$\\sum_{i=1}^{n} x_{i} = 1 \\dots n$ (каждый закупленный вид оборудования лимитирован 1 ед.)\n",
    "\n"
   ]
  },
  {
   "cell_type": "markdown",
   "metadata": {},
   "source": [
    "Решение влоб предполагает перебор возможных множеств комбинаций с выбором оптимального. При сложности $O(2^n)$ и n=2000  такое решение не подойдет"
   ]
  },
  {
   "cell_type": "code",
   "execution_count": 182,
   "metadata": {},
   "outputs": [],
   "source": [
    "# генерируем данные\n",
    "\n",
    "price_list_len = 2000 # размер прайса\n",
    "max_load = 200 # максимальная загрузка\n",
    "\n",
    "\n",
    "cost = np.arange(100, 5100, 100)\n",
    "weight = np.arange(1, 150, 1)\n",
    "\n",
    "all_list = list(product(weight, cost)) # комбинации товаров по стоимости и массе\n",
    "price_list = random.sample(all_list, price_list_len) # прайс-лист из случано выбранных 2000 единиц оборудования"
   ]
  },
  {
   "cell_type": "code",
   "execution_count": 183,
   "metadata": {},
   "outputs": [],
   "source": [
    "def optimize_load(items, max_load):\n",
    "    \n",
    "    \"\"\"Решение в общем виде O(2^n)\n",
    "    Принимает прайс в виде массива с весом и стоимостью.\n",
    "    Возвращает оптимальную загрузку при максимальной стоимости\"\"\"\n",
    "    \n",
    "    if len(items) > 30:\n",
    "        print(\"Это может быть слишком долго\")\n",
    "        return 0\n",
    "    \n",
    "    res = max(filter(lambda x: sum(list(zip(*x))[0]) <= max_load,\n",
    "                 (v for r in range(1, len(items)) for v in combinations(filter(lambda x: x[0] <= max_load, items), r))),\n",
    "          key=lambda x: sum(list(zip(*x))[1]))\n",
    "    max_w =  np.sum(list(zip(*res))[0])\n",
    "    max_p = np.sum(list(zip(*res))[1])\n",
    "    print(\"Список загруженного оборудования: \\n\",result)\n",
    "    print(\"Вес загрузки: \" ,l)\n",
    "    print(\"Стоимость: \",p)\n",
    "    \n",
    "    \n",
    "    return res"
   ]
  },
  {
   "cell_type": "code",
   "execution_count": 184,
   "metadata": {},
   "outputs": [
    {
     "name": "stdout",
     "output_type": "stream",
     "text": [
      "Список загруженного оборудования: \n",
      " ((30, 3300), (19, 3000), (15, 1400), (11, 4400), (20, 1300), (87, 4800))\n",
      "Вес загрузки:  198\n",
      "Стоимость:  18500\n",
      "Wall time: 21.4 s\n"
     ]
    }
   ],
   "source": [
    "%%time\n",
    "result = optimize_load(price_list[:22], max_load)"
   ]
  },
  {
   "cell_type": "markdown",
   "metadata": {},
   "source": [
    "Задача 2\n",
    "\n",
    "Предприятие выпускает покрышки и надувные лодки.\n",
    "Производство одной покрышки занимает 2 часа на заготовительном участке, 4 часа на участке обработки, 0 часов на участке сборки.\n",
    "Производство одной лодки занимает 6 часов на заготовительном участке, 3 часа на участке обработки, 2 часа на участке сборки.\n",
    "Стоимость одной лодки — 12000 рублей, стоимость покрышки — 7000 рублей.\n",
    "Фонд времени в день: заготовительного участка — 14 нормочасов, участка обработки — 10 нч, участка сборки — 8 нч.\n",
    "1. Составить ЦФ, записать ограничения и функцию Лагранжа для решения этой задачи.\n",
    "* Разработать оптимальный производственный план предприятия."
   ]
  },
  {
   "cell_type": "markdown",
   "metadata": {},
   "source": [
    "Для решения воспользуемся методом Лагранжа:"
   ]
  },
  {
   "cell_type": "markdown",
   "metadata": {
    "colab_type": "text",
    "id": "6js4ZDA43xBC"
   },
   "source": [
    "Метод Лагранжа применим для задач условной оптимизации вида<br>\n",
    "$\\vec{x^*}: F(\\vec{x^*}_n) = opt\\big(F(\\vec{x}_n)\\big)$, где $F(\\vec{x}_n)$ — целевая функция, $opt$ — критерий оптимальности;<br>\n",
    "$\\varphi_1(\\vec{x}_n) = 0$<br>\n",
    "$\\varphi_2(\\vec{x}_n) = 0$<br>\n",
    "...<br>\n",
    "$\\varphi_m(\\vec{x}_n) = 0$<br>\n",
    "Функции $\\varphi_i$ здесь — ряд линейных ограничений для параметров задачи, определяющих ОДР.<br>\n",
    "Такая задача условной оптимизации может стать задачей безусловной оптимизации после использования метода Лагранжа.<br>\n",
    "Метод Лагранжа сводится к построению функции Лагранжа, которая состоит из собственно целевой функции и линейной комбинации ограничений:<br>\n",
    "$$L(\\vec{x}_n,\\vec{\\lambda}_m) = F(\\vec{x}_n)+\\sum_{i=0}^m{\\lambda_i\\varphi_i(\\vec{x}_n)}$$\n",
    "Дальнейшее решение задачи сводится к решению системы уравнений:\n",
    "$$\\displaystyle\\begin{cases}\\frac{\\delta{L(\\vec{x}_n,\\vec{\\lambda}_m)}}{\\delta{\\vec{x}_n}} = {\\vec{0}_n}\\\\\n",
    "\\frac{\\delta{L(\\vec{x}_n,\\vec{\\lambda}_m)}}{\\delta{\\vec{\\lambda}_m}} = {\\vec{0}_n}\\end{cases}$$ \n",
    "то есть приравниванию к нулю частных производных функции Лагранжа по переменным $x_i$ — параметрам задачи оптимизации и по неопределённым множителям $\\lambda_i$."
   ]
  },
  {
   "cell_type": "markdown",
   "metadata": {
    "colab_type": "text",
    "id": "jWTr7bLq3xBK"
   },
   "source": [
    "Обозначим переменные: <br>\n",
    "$n_1$ - целевое количество производимых покрышек<br>\n",
    "$n_2$ - целевое количество производимых лодок<br>\n",
    "\n",
    "Целевая Функция: $F = 7000\\cdot n_1 + 12000 \\cdot n_2$<br>\n",
    "Критерий оптимальности: $(n_1^*, n_2^*): F(n_1^*, n_2^*) = \\max(F)$<br>\n",
    "Ограничения:<br>\n",
    "$2\\cdot n_1 +  6 \\cdot n_2 \\leq 14$ - ограничение по норме заготовительного участка<br>\n",
    "$4\\cdot n_1 +  3 \\cdot n_2 \\leq 10$ - ограничение по норме участка обработки<br>\n",
    "$0\\cdot n_1 +  2 \\cdot n_2 \\leq 8$ - ограничение по норме участка сборки<br>"
   ]
  },
  {
   "cell_type": "markdown",
   "metadata": {
    "colab_type": "text",
    "id": "koIFvBiP3xBN"
   },
   "source": [
    "Запишем функцию Лагранжа: $L(n_1,n_2,\\lambda_1,\\lambda_2, \\lambda_3) = 7000 n_1 + 12000  n_2 + \\lambda_1(2 n_1 +  6 n_2 - 14) + \\lambda_2(4 n_1 +  3 n_2 - 10) + \\lambda_3(2  n_2 - 8)$<br>\n",
    "\n",
    "Запишем уравнения для частных производных функции Лагранжа:<br>\n",
    "$\\frac{\\delta{L(n_1,n_2,\\lambda_1, \\lambda_2, \\lambda_3)}}{\\delta{n_1}} = 7000 + 2\\lambda_1 + 4\\lambda_2 = 0$<br>\n",
    "$\\frac{\\delta{L(n_1,n_2,\\lambda_1, \\lambda_2, \\lambda_3)}}{\\delta{n_2}} = 12000 + 6\\lambda_1 + 3\\lambda_2 = 0$<br>\n",
    "$\\frac{\\delta{L(n_1,n_2,\\lambda_1, \\lambda_2, \\lambda_3)}}{\\delta{\\lambda_1}} = 2 n_1 +  6 n_2 - 14 = 0$<br>\n",
    "$\\frac{\\delta{L(n_1,n_2,\\lambda_1, \\lambda_2, \\lambda_3)}}{\\delta{\\lambda_2}} = 4 n_1 +  3 n_2 - 10 = 0$<br>\n",
    "$\\frac{\\delta{L(n_1,n_2,\\lambda_1, \\lambda_2, \\lambda_3)}}{\\delta{\\lambda_3}} = 2  n_2 - 8 = 0$<br>"
   ]
  },
  {
   "cell_type": "markdown",
   "metadata": {},
   "source": [
    "Решая систему в целых числах, получим $n_1^* = 0$, $n_2^* = 2$.<br>\n",
    "Оптимальный производственный план: 2 лодки за смену общей стоимостью 24000"
   ]
  },
  {
   "cell_type": "code",
   "execution_count": 144,
   "metadata": {},
   "outputs": [
    {
     "name": "stderr",
     "output_type": "stream",
     "text": [
      "C:\\Users\\Nickel\\anaconda3\\lib\\site-packages\\ipykernel_launcher.py:3: FutureWarning: `rcond` parameter will change to the default of machine precision times ``max(M, N)`` where M and N are the input matrix dimensions.\n",
      "To use the future default and silence this warning we advise to pass `rcond=None`, to keep using the old, explicitly pass `rcond=-1`.\n",
      "  This is separate from the ipykernel package so we can avoid doing imports until\n"
     ]
    },
    {
     "data": {
      "text/plain": [
       "array([0.52475248, 2.3960396 ])"
      ]
     },
     "execution_count": 144,
     "metadata": {},
     "output_type": "execute_result"
    }
   ],
   "source": [
    "A1 = np.array([[2., 6.], [4., 3.], [0., 2.]])\n",
    "b1 = np.array([14., 10., 8.])\n",
    "np.linalg.lstsq(A1, b1)[0]"
   ]
  },
  {
   "cell_type": "code",
   "execution_count": null,
   "metadata": {},
   "outputs": [],
   "source": []
  }
 ],
 "metadata": {
  "kernelspec": {
   "display_name": "Python 3",
   "language": "python",
   "name": "python3"
  },
  "language_info": {
   "codemirror_mode": {
    "name": "ipython",
    "version": 3
   },
   "file_extension": ".py",
   "mimetype": "text/x-python",
   "name": "python",
   "nbconvert_exporter": "python",
   "pygments_lexer": "ipython3",
   "version": "3.7.6"
  }
 },
 "nbformat": 4,
 "nbformat_minor": 4
}
