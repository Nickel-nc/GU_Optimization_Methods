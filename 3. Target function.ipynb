{
 "cells": [
  {
   "cell_type": "markdown",
   "metadata": {},
   "source": [
    "## Методы оптимизации. Составление целевых функций"
   ]
  },
  {
   "cell_type": "markdown",
   "metadata": {},
   "source": [
    "\n",
    "1. Сталепрокатное предприятие выпускает стандартные стальные листы размерами 1500×6000 мм.\n",
    "Ежемесячный объем заказов на листы нестандартных размеров приведён ниже:\n",
    "500×600 — 3000, 1000×400 — 2000, 1500×1000 — 1500\n",
    "Необходимо составить ЦФ для нахождения наименее затратного раскроя листов.\n",
    "** и составить алгоритм"
   ]
  },
  {
   "cell_type": "markdown",
   "metadata": {
    "colab_type": "text",
    "id": "cYB5PEsYCMX4"
   },
   "source": [
    "Имеется m вариантов раскроя, т.е. известны величины $a_{ij} (i= \\overline{1,m}, j=\\overline{1,3})$, определяющие количество единиц j-x изделий при i-м способе раскроя одного листа и остаток $a_i$.\n",
    "\n",
    "Пусть $x_i$ - количество листов, раскраиваемые i-м вариантом $(i=\\overline{1,m})$\n",
    "\n",
    "Количество изделий 1-го, 2-го и 3-го вида с учетом условия количества:\n",
    "\n",
    "$$a_{11}x_1+...+a_{i1}x_i+...+a_{m1}x_m = 3000$$\n",
    "\n",
    "$$a_{12}x_1+...+a_{i2}x_i+...+a_{m2}x_m = 2000$$\n",
    "\n",
    "$$a_{13}x_1+...+a_{i3}x_i+...+a_{m3}x_m = 1500$$\n",
    "\n",
    "\n",
    "Целевая функция:\n",
    "$$F = \\sum_{i=1}^{m}x_ia_i \\rightarrow min$$\n",
    "\n",
    "$$a_{1j}x_1+...+a_{ij}x_i+...+a_{mj}x_m = k_j$$\n",
    "\n",
    "где $k_j$ - необходимое количество раскроенных листов\n"
   ]
  },
  {
   "cell_type": "markdown",
   "metadata": {},
   "source": [
    "2. Пусть есть компания, занимающаяся доставкой Belivery Club.\n",
    "Есть N зон, в которых есть спрос на курьеров в каждый час. Внутри дня в разные часы спрос различен. Каждой зоне i в час h необходимо необходимо n_{hi} курьеров. Для каждой зоны есть штраф из-за недостаточно 1 курьера - s_i. Так же у каждого курьера есть предпочтения относительно часов и зон работы. Необходимо распределить M курьеров таким образом, чтобы суммарный штраф был минимальный.\n",
    "(описать формулу в общем случае, т.е. без каких-либо числовых данных)"
   ]
  },
  {
   "cell_type": "code",
   "execution_count": 1,
   "metadata": {},
   "outputs": [
    {
     "data": {
      "application/vnd.jupyter.widget-view+json": {
       "model_id": "0f58548eab9d4587a354476cb48894a9",
       "version_major": 2,
       "version_minor": 0
      },
      "text/plain": [
       "Tab(children=(IntSlider(value=42), Text(value='Сорок два')), _titles={'0': 'Раздел 1', '1': 'Раздел 2'})"
      ]
     },
     "metadata": {},
     "output_type": "display_data"
    }
   ],
   "source": [
    "from IPython.display import display\n",
    "from ipywidgets import Tab, IntSlider, Text\n",
    "\n",
    "tab = Tab()\n",
    "tab.children = [IntSlider(value=42), Text(value='Сорок два')]\n",
    "tab.set_title(0, 'Раздел 1')\n",
    "tab.set_title(1, 'Раздел 2')\n",
    "\n",
    "display(tab)"
   ]
  },
  {
   "cell_type": "code",
   "execution_count": null,
   "metadata": {},
   "outputs": [],
   "source": []
  }
 ],
 "metadata": {
  "kernelspec": {
   "display_name": "Python 3",
   "language": "python",
   "name": "python3"
  },
  "language_info": {
   "codemirror_mode": {
    "name": "ipython",
    "version": 3
   },
   "file_extension": ".py",
   "mimetype": "text/x-python",
   "name": "python",
   "nbconvert_exporter": "python",
   "pygments_lexer": "ipython3",
   "version": "3.7.6"
  }
 },
 "nbformat": 4,
 "nbformat_minor": 4
}
