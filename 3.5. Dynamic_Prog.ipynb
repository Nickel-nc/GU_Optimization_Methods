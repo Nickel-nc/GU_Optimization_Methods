{
 "cells": [
  {
   "cell_type": "markdown",
   "metadata": {
    "colab_type": "text",
    "id": "LXgxhFREh92y"
   },
   "source": [
    "# Основы  динамического программирования "
   ]
  },
  {
   "cell_type": "markdown",
   "metadata": {
    "colab_type": "text",
    "id": "CMdJp02X02Tm"
   },
   "source": [
    "**Наиболее длинная возрастающая подпоследовательность**\n",
    "\n",
    "\n",
    "Дана последовательность целых чисел. Необходимо найти ее самую длинную строго возрастающую подпоследовательность.\n",
    "\n",
    "Начнем решать задачу с начала — будем искать ответ, начиная с первых членов данной последовательности. Для каждого номера i будем искать наибольшую возрастающую подпоследовательность, оканчивающуюся элементом в позиции i. \n",
    "\n",
    "Пусть исходная последовательность хранится в массиве A. В массиве L будем записывать длины максимальных подпоследовательностей, оканчивающихся текущим элементом. \n",
    "Пусть мы нашли все $L_i$ для $1 <= i <= k – 1$. Теперь можно найти $L_k$ следующим образом. Просматриваем все элементы $A_i$ для $1 <= i < k – 1$ Если\n",
    "$A_i < A_k$, то k-ый элемент может стать продолжением подпоследовательности, окончившейся элементом $A_i$. Длина полученной подпоследовательности будет на 1 больше $L_i$. Чтобы найти $L_k$, необходимо перебрать все i от 1 до k – 1:\n",
    "$L_k = max(L_i) + 1$, где максимум берется по всем i таким, что $A_i < A_k$ и\n",
    "$1 <= i < k$"
   ]
  },
  {
   "cell_type": "code",
   "execution_count": 1,
   "metadata": {},
   "outputs": [],
   "source": [
    "import numpy as np"
   ]
  },
  {
   "cell_type": "code",
   "execution_count": 151,
   "metadata": {},
   "outputs": [],
   "source": [
    "def get_the_longest_subsequence(A):\n",
    "    \n",
    "    \"\"\"\n",
    "    Вычисляем параметры последовательности для входного вектора A\n",
    "    \n",
    "    L: список максимальных подпоследовательностей A[i] элемента\n",
    "    N: указатель на предыдущий элемент подпоследовательности\n",
    "    \"\"\"\n",
    "    \n",
    "    L = np.zeros(len(A))  # max len list\n",
    "    N = np.zeros(len(A))  # last max elemnt pointer\n",
    "\n",
    "    for i in range(len(A)):\n",
    "        if i == 0:\n",
    "            L[i] = 1\n",
    "            N[i] = 0\n",
    "            continue\n",
    "        l_min = 0\n",
    "        for j in range(len(A[:i])):\n",
    "            if A[j] > l_min and A[j] < A[i]:\n",
    "                L[i] += 1\n",
    "                N[i] = j+1\n",
    "                l_min = A[j]\n",
    "        L[i] += 1        \n",
    "    return L, N\n",
    "\n",
    "\n",
    "def restore_the_sequence(A, N, L):\n",
    "    \n",
    "    \"\"\"\n",
    "    Восстановление подпоследовательности по указателю N\n",
    "    \"\"\"\n",
    "    \n",
    "    A_restored = []\n",
    "    n = int(L.max())\n",
    "    n_last = np.inf\n",
    "    for i in range(n+1):\n",
    "        if N[n-i] < n_last:\n",
    "            A_restored.append(A[n-i])\n",
    "            n_last = N[n-i]\n",
    "    A_restored = A_restored[::-1]   \n",
    "    return A_restored\n",
    "\n",
    "\n",
    "def solve_sequrence(A):\n",
    "    \n",
    "    \"\"\"\n",
    "    Выводит результаты расчетов\n",
    "    \"\"\"\n",
    "    \n",
    "    L,N = get_the_longest_subsequence(A)\n",
    "    AA = restore_the_sequence(A, N, L)\n",
    "    print(f\"A: {A}\\n\")\n",
    "    print(\"Вычисляемые параметры:\")\n",
    "    print(f\"N: {N}\")\n",
    "    print(f\"L: {L}\\n\")\n",
    "    print(f\"Самая длинная возрастающая подпоследовательность: \\n{AA}\")"
   ]
  },
  {
   "cell_type": "code",
   "execution_count": 152,
   "metadata": {
    "scrolled": true
   },
   "outputs": [
    {
     "name": "stdout",
     "output_type": "stream",
     "text": [
      "A: [ 2  8  5  9 12  6]\n",
      "\n",
      "Вычисляемые параметры:\n",
      "N: [0. 1. 1. 2. 4. 3.]\n",
      "L: [1. 2. 2. 3. 4. 3.]\n",
      "\n",
      "Самая длинная возрастающая подпоследовательность: \n",
      "[2, 5, 9, 12]\n"
     ]
    }
   ],
   "source": [
    "A = np.array([2,8,5,9,12, 6])  # data\n",
    "solve_sequrence(A)"
   ]
  },
  {
   "cell_type": "markdown",
   "metadata": {
    "colab_type": "text",
    "id": "6vQCFnse3Q7t"
   },
   "source": [
    "**Наибольшая общая подпоследовательность**\n",
    "\n",
    "Рассмотрим последовательность чисел $a_1, a_2, …, a_n$. Если вычеркнуть из этой последовательности часть чисел, мы получим другую последовательность, которую называют подпоследовательностью данной последовательности.\n",
    "\n",
    "Рассмотрим теперь еще одну последовательность $b_1, b_2, …, b_m$. Требуется найти длину самой длинной подпоследовательности последовательности a, которая одновременно является и подпоследовательностью последовательности b. Такую последовательность называют наибольшей общей подследовательностью (НОП). \n",
    "\n",
    "Например, для последовательностей (1, 2, 3, 4, 5) и (2, 7, 3, 2, 5) НОП является подпоследовательность 2, 3, 5, состоящая из трёх членов.\n",
    "\n"
   ]
  },
  {
   "cell_type": "markdown",
   "metadata": {
    "colab_type": "text",
    "id": "0Enf7Vwk3x-6"
   },
   "source": [
    "Опишем подзадачи, на которые мы будем разбивать нашу задачу. \n",
    "Мы напишем функцию $LCS(p, q)$, которая находит длину НОП для двух начальных участков $a_1, …, a_p$ и $b_1, …, b_q$ наших последовательностей. Пусть для всех пар q и p $(p < n, q < m)$, мы задачу решать уже научились.  Попробуем вычислить $LCS(n, m)$. Рассмотрим два случая:\n",
    "\n",
    "\n",
    "1) $$           a_n= b_m.\\space then \\space LCS(n, m)=LCS(n-1, m-1)+1.$$\n",
    "\n",
    "2) $$           a_n \\not= b_m.\\space then \\space LCS(n, m)=max(LCS(n, m-1), LCS(n-1, m))$$.\n",
    "\n",
    "Пользуясь этими формулами, мы можем заполнить таблицу значений LCS(p, q) для всех p и q последовательно: сначала заполняем первую строчку слева направо, затем вторую и т.д. Последнее число в последней строке и будет ответом на поставленную задачу.\n"
   ]
  },
  {
   "cell_type": "markdown",
   "metadata": {
    "colab_type": "text",
    "id": "fkbMS5RC71hj"
   },
   "source": [
    "Теперь заведем массив $F[n+1]$, который будем последовательно заполнять значениями выписанного рекуррентного соотношения. Будем предполагать, что количество номиналов банкнот хранится в переменной k, а сами номиналы хранятся в массиве $a[k]$."
   ]
  },
  {
   "cell_type": "code",
   "execution_count": 162,
   "metadata": {},
   "outputs": [],
   "source": [
    "def get_LCS_matrix(x, y):\n",
    "    \n",
    "    \"\"\"\n",
    "    Строит LCS матрицы ДП\n",
    "    Использует алгоритм Нидлмана—Вунша\n",
    "    \"\"\"\n",
    "    \n",
    "    L = [[0]*(len(y)+1) for _ in range(len(x)+1)]\n",
    "    for x_i,x_elem in enumerate(x):\n",
    "        for y_i,y_elem in enumerate(y):\n",
    "            if x_elem == y_elem:\n",
    "                L[x_i][y_i] = L[x_i-1][y_i-1] + 1\n",
    "            else:\n",
    "                L[x_i][y_i] = max((L[x_i][y_i-1],L[x_i-1][y_i]))\n",
    "    return L\n",
    "\n",
    "def get_LCS_res(x, y):\n",
    "    \n",
    "    \"\"\"\n",
    "    Выводит LCS используя поиск по матрице\n",
    "    \"\"\"\n",
    "    \n",
    "    L = get_LCS_matrix(x, y)\n",
    "    LCS = []\n",
    "    x_i,y_i = len(x)-1,len(y)-1\n",
    "    while x_i >= 0 and y_i >= 0:\n",
    "        if x[x_i] == y[y_i]:\n",
    "            LCS.append(x[x_i])\n",
    "            x_i, y_i = x_i-1, y_i-1\n",
    "        elif L[x_i-1][y_i] > L[x_i][y_i-1]:\n",
    "            x_i -= 1\n",
    "        else:\n",
    "            y_i -= 1\n",
    "    LCS.reverse()\n",
    "    return LCS"
   ]
  },
  {
   "cell_type": "code",
   "execution_count": null,
   "metadata": {},
   "outputs": [],
   "source": [
    "A = np.array([1,2,3,4,5])\n",
    "B = np.array([2,7,3,2,5])"
   ]
  },
  {
   "cell_type": "code",
   "execution_count": 159,
   "metadata": {},
   "outputs": [
    {
     "data": {
      "text/plain": [
       "[[0, 0, 0, 0, 0, 0],\n",
       " [1, 1, 1, 1, 1, 0],\n",
       " [1, 1, 2, 2, 2, 0],\n",
       " [1, 1, 2, 2, 2, 0],\n",
       " [1, 1, 2, 2, 3, 0],\n",
       " [0, 0, 0, 0, 0, 0]]"
      ]
     },
     "execution_count": 159,
     "metadata": {},
     "output_type": "execute_result"
    }
   ],
   "source": [
    "get_LCS_matrix(A, B)"
   ]
  },
  {
   "cell_type": "code",
   "execution_count": 164,
   "metadata": {},
   "outputs": [
    {
     "data": {
      "text/plain": [
       "[2, 3, 5]"
      ]
     },
     "execution_count": 164,
     "metadata": {},
     "output_type": "execute_result"
    }
   ],
   "source": [
    "get_LCS_res(A,B)"
   ]
  }
 ],
 "metadata": {
  "colab": {
   "collapsed_sections": [],
   "name": "Динамическое программирование. Основы .ipynb",
   "provenance": []
  },
  "kernelspec": {
   "display_name": "Python 3",
   "language": "python",
   "name": "python3"
  },
  "language_info": {
   "codemirror_mode": {
    "name": "ipython",
    "version": 3
   },
   "file_extension": ".py",
   "mimetype": "text/x-python",
   "name": "python",
   "nbconvert_exporter": "python",
   "pygments_lexer": "ipython3",
   "version": "3.7.6"
  }
 },
 "nbformat": 4,
 "nbformat_minor": 1
}
