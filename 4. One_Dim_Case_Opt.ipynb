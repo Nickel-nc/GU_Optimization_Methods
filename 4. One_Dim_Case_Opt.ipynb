{
 "cells": [
  {
   "cell_type": "code",
   "execution_count": 1,
   "metadata": {},
   "outputs": [],
   "source": [
    "import os\n",
    "import numpy as np\n",
    "import pandas as pd\n",
    "import seaborn as sns\n",
    "import matplotlib.pyplot as plt\n",
    "from pandas.plotting import scatter_matrix\n",
    "from tqdm import tqdm\n",
    "\n",
    "from sklearn.utils.validation import check_is_fitted\n",
    "from sklearn.model_selection import train_test_split\n",
    "from sklearn.ensemble import RandomForestClassifier\n",
    "from sklearn.metrics import roc_auc_score\n",
    "\n",
    "%matplotlib inline\n",
    "pd.set_option(\"display.max_rows\", 500)"
   ]
  },
  {
   "cell_type": "markdown",
   "metadata": {},
   "source": [
    "## Описание задачи\n",
    "\n",
    "Мы работаем в Банке / Телеоператоре, у нашей компании есть клиенты, которые должны вносить платеж по кредиту / вносить абонентскую плату за услуги связи до фиксированной даты каждого месяца (например: до 20-го числа каждого месяца). Некоторые клиенты вносят оплаты заблоговременно, другие клиенты вносят оплаты в дату предполагаемой оплаты, некоторые забывают и вносят позже. Мы ожидаем, что клиенты будут вносить оплату вовремя, исходя из этой гипотезы, мы строим финансовую стратегию работы компании. Для улучшения ситуации, мы хотим информировать клиентов о приближающейся дате оплаты платежа / абоненской платы. При этом, у нас есть несколько способов коммуникации с клиентами: __SMS__, __звонок человека__, __IVR__ (звонок робота) или ничего не делать. При этом каждый вид взаимодействия стоит нам определенных денег, и у нас есть ограничение на количество способов взаимодействия каждым способом. __Например__, если в Call-центре компании работает 100 сотрудников, каждый из которых может совершить 30 звонков в день, то более 3000 звонков в день мы сделать не можем. Или, у нас есть бюджет 100.000 рублей на отправку SMS-коммуникации, то при стоимости одного SMS - 2 рубля, мы не можем отправить более 50.000 SMS-сообщений в день. И так далее. __ЦЕЛЬ__ состоит в том, чтобы оптимизировать коммуникацию с клиентами, то есть максимизировать долю клиентов, которые исполняют свои обязанности вовремя, при этом затратив на это минимальное количество средств.\n",
    "\n",
    "__План решения__ состоит из трех основных этапов:\n",
    "* построить ML-модели для оценки вероятности внесения платежа при коммуникации указанным способом;\n",
    "* оценить финансовый эффект от взаимодействия указанным способом;\n",
    "* назначить каждому клиенту 1 вид взаимодействия для максимизации указанных в описании задачи метрик.\n",
    "\n",
    "__Данные__:\n",
    "для решения такой задачи, нам нужны данные, из которых была бы понятна эффективность каждого конкретного метода взаимодействия. Для сбора таких данных можно поступить следующим образом: выбрать небольшую часть репрезентативной выборки клиентов, и каждому клиенту случайным образом, назначать вид коммуникации с соблюдением заданных ограничений на количество доступных звонков / бюджет на SMS / и т.д. После завершение эксперимента, у нас будут данные для обучения модели. "
   ]
  },
  {
   "cell_type": "code",
   "execution_count": 2,
   "metadata": {},
   "outputs": [
    {
     "name": "stdout",
     "output_type": "stream",
     "text": [
      "Wall time: 7.57 s\n"
     ]
    },
    {
     "data": {
      "text/html": [
       "<div>\n",
       "<style scoped>\n",
       "    .dataframe tbody tr th:only-of-type {\n",
       "        vertical-align: middle;\n",
       "    }\n",
       "\n",
       "    .dataframe tbody tr th {\n",
       "        vertical-align: top;\n",
       "    }\n",
       "\n",
       "    .dataframe thead th {\n",
       "        text-align: right;\n",
       "    }\n",
       "</style>\n",
       "<table border=\"1\" class=\"dataframe\">\n",
       "  <thead>\n",
       "    <tr style=\"text-align: right;\">\n",
       "      <th></th>\n",
       "      <th>SK_ID_CURR</th>\n",
       "      <th>TARGET</th>\n",
       "      <th>NAME_CONTRACT_TYPE</th>\n",
       "      <th>CODE_GENDER</th>\n",
       "      <th>FLAG_OWN_CAR</th>\n",
       "      <th>FLAG_OWN_REALTY</th>\n",
       "      <th>CNT_CHILDREN</th>\n",
       "      <th>AMT_INCOME_TOTAL</th>\n",
       "      <th>AMT_CREDIT</th>\n",
       "      <th>AMT_ANNUITY</th>\n",
       "      <th>...</th>\n",
       "      <th>FLAG_DOCUMENT_19</th>\n",
       "      <th>FLAG_DOCUMENT_20</th>\n",
       "      <th>FLAG_DOCUMENT_21</th>\n",
       "      <th>AMT_REQ_CREDIT_BUREAU_HOUR</th>\n",
       "      <th>AMT_REQ_CREDIT_BUREAU_DAY</th>\n",
       "      <th>AMT_REQ_CREDIT_BUREAU_WEEK</th>\n",
       "      <th>AMT_REQ_CREDIT_BUREAU_MON</th>\n",
       "      <th>AMT_REQ_CREDIT_BUREAU_QRT</th>\n",
       "      <th>AMT_REQ_CREDIT_BUREAU_YEAR</th>\n",
       "      <th>COMMUNICATION_TYPE</th>\n",
       "    </tr>\n",
       "  </thead>\n",
       "  <tbody>\n",
       "    <tr>\n",
       "      <th>0</th>\n",
       "      <td>176207</td>\n",
       "      <td>0</td>\n",
       "      <td>Cash loans</td>\n",
       "      <td>M</td>\n",
       "      <td>Y</td>\n",
       "      <td>N</td>\n",
       "      <td>0</td>\n",
       "      <td>135000.0</td>\n",
       "      <td>450000.0</td>\n",
       "      <td>27193.5</td>\n",
       "      <td>...</td>\n",
       "      <td>0</td>\n",
       "      <td>0</td>\n",
       "      <td>0</td>\n",
       "      <td>1.0</td>\n",
       "      <td>0.0</td>\n",
       "      <td>0.0</td>\n",
       "      <td>0.0</td>\n",
       "      <td>0.0</td>\n",
       "      <td>1.0</td>\n",
       "      <td>PUSH</td>\n",
       "    </tr>\n",
       "    <tr>\n",
       "      <th>1</th>\n",
       "      <td>425123</td>\n",
       "      <td>0</td>\n",
       "      <td>Cash loans</td>\n",
       "      <td>F</td>\n",
       "      <td>N</td>\n",
       "      <td>Y</td>\n",
       "      <td>1</td>\n",
       "      <td>193500.0</td>\n",
       "      <td>295668.0</td>\n",
       "      <td>11277.0</td>\n",
       "      <td>...</td>\n",
       "      <td>0</td>\n",
       "      <td>0</td>\n",
       "      <td>0</td>\n",
       "      <td>0.0</td>\n",
       "      <td>0.0</td>\n",
       "      <td>0.0</td>\n",
       "      <td>0.0</td>\n",
       "      <td>2.0</td>\n",
       "      <td>1.0</td>\n",
       "      <td>SMS</td>\n",
       "    </tr>\n",
       "    <tr>\n",
       "      <th>2</th>\n",
       "      <td>210380</td>\n",
       "      <td>0</td>\n",
       "      <td>Revolving loans</td>\n",
       "      <td>M</td>\n",
       "      <td>N</td>\n",
       "      <td>N</td>\n",
       "      <td>2</td>\n",
       "      <td>157500.0</td>\n",
       "      <td>450000.0</td>\n",
       "      <td>22500.0</td>\n",
       "      <td>...</td>\n",
       "      <td>0</td>\n",
       "      <td>0</td>\n",
       "      <td>0</td>\n",
       "      <td>0.0</td>\n",
       "      <td>0.0</td>\n",
       "      <td>0.0</td>\n",
       "      <td>0.0</td>\n",
       "      <td>0.0</td>\n",
       "      <td>8.0</td>\n",
       "      <td>PUSH</td>\n",
       "    </tr>\n",
       "    <tr>\n",
       "      <th>3</th>\n",
       "      <td>352563</td>\n",
       "      <td>0</td>\n",
       "      <td>Cash loans</td>\n",
       "      <td>F</td>\n",
       "      <td>N</td>\n",
       "      <td>Y</td>\n",
       "      <td>2</td>\n",
       "      <td>67500.0</td>\n",
       "      <td>454500.0</td>\n",
       "      <td>16452.0</td>\n",
       "      <td>...</td>\n",
       "      <td>0</td>\n",
       "      <td>0</td>\n",
       "      <td>0</td>\n",
       "      <td>0.0</td>\n",
       "      <td>0.0</td>\n",
       "      <td>0.0</td>\n",
       "      <td>0.0</td>\n",
       "      <td>0.0</td>\n",
       "      <td>0.0</td>\n",
       "      <td>SMS</td>\n",
       "    </tr>\n",
       "    <tr>\n",
       "      <th>4</th>\n",
       "      <td>335930</td>\n",
       "      <td>0</td>\n",
       "      <td>Cash loans</td>\n",
       "      <td>M</td>\n",
       "      <td>Y</td>\n",
       "      <td>Y</td>\n",
       "      <td>0</td>\n",
       "      <td>225000.0</td>\n",
       "      <td>439740.0</td>\n",
       "      <td>21285.0</td>\n",
       "      <td>...</td>\n",
       "      <td>0</td>\n",
       "      <td>0</td>\n",
       "      <td>0</td>\n",
       "      <td>0.0</td>\n",
       "      <td>0.0</td>\n",
       "      <td>0.0</td>\n",
       "      <td>0.0</td>\n",
       "      <td>3.0</td>\n",
       "      <td>4.0</td>\n",
       "      <td>PUSH</td>\n",
       "    </tr>\n",
       "  </tbody>\n",
       "</table>\n",
       "<p>5 rows × 122 columns</p>\n",
       "</div>"
      ],
      "text/plain": [
       "   SK_ID_CURR  TARGET NAME_CONTRACT_TYPE CODE_GENDER FLAG_OWN_CAR  \\\n",
       "0      176207       0         Cash loans           M            Y   \n",
       "1      425123       0         Cash loans           F            N   \n",
       "2      210380       0    Revolving loans           M            N   \n",
       "3      352563       0         Cash loans           F            N   \n",
       "4      335930       0         Cash loans           M            Y   \n",
       "\n",
       "  FLAG_OWN_REALTY  CNT_CHILDREN  AMT_INCOME_TOTAL  AMT_CREDIT  AMT_ANNUITY  \\\n",
       "0               N             0          135000.0    450000.0      27193.5   \n",
       "1               Y             1          193500.0    295668.0      11277.0   \n",
       "2               N             2          157500.0    450000.0      22500.0   \n",
       "3               Y             2           67500.0    454500.0      16452.0   \n",
       "4               Y             0          225000.0    439740.0      21285.0   \n",
       "\n",
       "   ...  FLAG_DOCUMENT_19 FLAG_DOCUMENT_20 FLAG_DOCUMENT_21  \\\n",
       "0  ...                 0                0                0   \n",
       "1  ...                 0                0                0   \n",
       "2  ...                 0                0                0   \n",
       "3  ...                 0                0                0   \n",
       "4  ...                 0                0                0   \n",
       "\n",
       "  AMT_REQ_CREDIT_BUREAU_HOUR AMT_REQ_CREDIT_BUREAU_DAY  \\\n",
       "0                        1.0                       0.0   \n",
       "1                        0.0                       0.0   \n",
       "2                        0.0                       0.0   \n",
       "3                        0.0                       0.0   \n",
       "4                        0.0                       0.0   \n",
       "\n",
       "  AMT_REQ_CREDIT_BUREAU_WEEK  AMT_REQ_CREDIT_BUREAU_MON  \\\n",
       "0                        0.0                        0.0   \n",
       "1                        0.0                        0.0   \n",
       "2                        0.0                        0.0   \n",
       "3                        0.0                        0.0   \n",
       "4                        0.0                        0.0   \n",
       "\n",
       "   AMT_REQ_CREDIT_BUREAU_QRT  AMT_REQ_CREDIT_BUREAU_YEAR  COMMUNICATION_TYPE  \n",
       "0                        0.0                         1.0                PUSH  \n",
       "1                        2.0                         1.0                 SMS  \n",
       "2                        0.0                         8.0                PUSH  \n",
       "3                        0.0                         0.0                 SMS  \n",
       "4                        3.0                         4.0                PUSH  \n",
       "\n",
       "[5 rows x 122 columns]"
      ]
     },
     "execution_count": 2,
     "metadata": {},
     "output_type": "execute_result"
    }
   ],
   "source": [
    "%%time\n",
    "\n",
    "data = pd.read_csv(\"train.csv\")\n",
    "test = pd.read_csv(\"valid.csv\")\n",
    "\n",
    "\n",
    "data.head()"
   ]
  },
  {
   "cell_type": "code",
   "execution_count": 3,
   "metadata": {},
   "outputs": [],
   "source": [
    "C_TYPES = data['COMMUNICATION_TYPE'].unique() # ['PUSH', 'SMS', 'None', 'IVR', 'CALL']\n",
    "TARGET_TYPE = \"SMS\"\n"
   ]
  },
  {
   "cell_type": "code",
   "execution_count": 4,
   "metadata": {},
   "outputs": [
    {
     "name": "stdout",
     "output_type": "stream",
     "text": [
      "Wall time: 55 ms\n"
     ]
    },
    {
     "data": {
      "text/html": [
       "<div>\n",
       "<style scoped>\n",
       "    .dataframe tbody tr th:only-of-type {\n",
       "        vertical-align: middle;\n",
       "    }\n",
       "\n",
       "    .dataframe tbody tr th {\n",
       "        vertical-align: top;\n",
       "    }\n",
       "\n",
       "    .dataframe thead th {\n",
       "        text-align: right;\n",
       "    }\n",
       "</style>\n",
       "<table border=\"1\" class=\"dataframe\">\n",
       "  <thead>\n",
       "    <tr style=\"text-align: right;\">\n",
       "      <th></th>\n",
       "      <th>COMMUNICATION_TYPE</th>\n",
       "      <th>OBSERVERS</th>\n",
       "      <th>EVENTRATE</th>\n",
       "      <th>EVENTS</th>\n",
       "    </tr>\n",
       "  </thead>\n",
       "  <tbody>\n",
       "    <tr>\n",
       "      <th>0</th>\n",
       "      <td>CALL</td>\n",
       "      <td>3439</td>\n",
       "      <td>0.078802</td>\n",
       "      <td>271</td>\n",
       "    </tr>\n",
       "    <tr>\n",
       "      <th>1</th>\n",
       "      <td>IVR</td>\n",
       "      <td>7185</td>\n",
       "      <td>0.067084</td>\n",
       "      <td>482</td>\n",
       "    </tr>\n",
       "    <tr>\n",
       "      <th>2</th>\n",
       "      <td>None</td>\n",
       "      <td>3336</td>\n",
       "      <td>0.056055</td>\n",
       "      <td>187</td>\n",
       "    </tr>\n",
       "    <tr>\n",
       "      <th>3</th>\n",
       "      <td>PUSH</td>\n",
       "      <td>126096</td>\n",
       "      <td>0.085586</td>\n",
       "      <td>10792</td>\n",
       "    </tr>\n",
       "    <tr>\n",
       "      <th>4</th>\n",
       "      <td>SMS</td>\n",
       "      <td>44450</td>\n",
       "      <td>0.071001</td>\n",
       "      <td>3156</td>\n",
       "    </tr>\n",
       "  </tbody>\n",
       "</table>\n",
       "</div>"
      ],
      "text/plain": [
       "  COMMUNICATION_TYPE  OBSERVERS  EVENTRATE  EVENTS\n",
       "0               CALL       3439   0.078802     271\n",
       "1                IVR       7185   0.067084     482\n",
       "2               None       3336   0.056055     187\n",
       "3               PUSH     126096   0.085586   10792\n",
       "4                SMS      44450   0.071001    3156"
      ]
     },
     "execution_count": 4,
     "metadata": {},
     "output_type": "execute_result"
    }
   ],
   "source": [
    "%%time\n",
    "\n",
    "gp = data[[\"COMMUNICATION_TYPE\", \"TARGET\"]]\n",
    "gp_stats = gp.groupby([\"COMMUNICATION_TYPE\"]).agg({\"TARGET\": [\"count\", \"mean\", \"sum\"]})\n",
    "gp_stats.columns = [\"OBSERVERS\", \"EVENTRATE\", \"EVENTS\"]\n",
    "gp_stats = gp_stats.reset_index()\n",
    "\n",
    "gp_stats"
   ]
  },
  {
   "cell_type": "markdown",
   "metadata": {},
   "source": [
    "## 1. Обучение моделей\n",
    "\n",
    "Обучим 5 моделей для оценки вероятности НЕ внесения платежа при заданном типе коммуникации"
   ]
  },
  {
   "cell_type": "code",
   "execution_count": 5,
   "metadata": {},
   "outputs": [],
   "source": [
    "numerical_features = data.select_dtypes(exclude=[\"object\"]).columns.tolist() + [\"COMMUNICATION_TYPE\"]\n",
    "X, y = data[numerical_features].drop([\"SK_ID_CURR\", \"TARGET\"], axis=1), data[\"TARGET\"]"
   ]
  },
  {
   "cell_type": "code",
   "execution_count": 6,
   "metadata": {},
   "outputs": [],
   "source": [
    "x_train, x_test = train_test_split(\n",
    "    X, train_size=0.7, random_state=1\n",
    ")\n",
    "y_train, y_test = train_test_split(\n",
    "    y, train_size=0.7, random_state=1\n",
    ")"
   ]
  },
  {
   "cell_type": "code",
   "execution_count": 7,
   "metadata": {},
   "outputs": [],
   "source": [
    "def fit_model(X: pd.DataFrame,\n",
    "              y: pd.Series,\n",
    "              communication_type: str,\n",
    "              estimator,\n",
    "              fillna=-9999\n",
    "              ):\n",
    "    \"\"\"\n",
    "    Обучение модели под отдельный вид коммуникации.\n",
    "\n",
    "    Parameters\n",
    "    ----------\n",
    "    X: pandas.core.frame.DataFrame, shape = [n_samples, n_features]\n",
    "        Матрица признаков для обучения модели.\n",
    "\n",
    "    y: pandas.core.frame.Series, shape = [n_samples, 1]\n",
    "        Вектор целевой переменной для обучения модели.\n",
    "\n",
    "    communication_type: str\n",
    "        Вид коммуникации: \"CALL\", \"IVR\", \"SMS\", \"PUSH\", \"None\".\n",
    "\n",
    "    estimator: sklearn.callable\n",
    "        Объект Estimator, поддерживающий API sklearn.\n",
    "\n",
    "    fillna: int/float, optional, default = -9999\n",
    "        Значение для заполнение пропусков в матрице признаков.\n",
    "        Опциональный параметр, по умолчанию, равен -9999.\n",
    "\n",
    "    Returns\n",
    "    -------\n",
    "    model: sklearn.callable\n",
    "        Объект обученной модели.\n",
    "\n",
    "    \"\"\"\n",
    "    mask = X[\"COMMUNICATION_TYPE\"] == communication_type\n",
    "    x_train = X.drop(\"COMMUNICATION_TYPE\", axis=1)\n",
    "    x_train, y_train = x_train.loc[mask], y.loc[mask]\n",
    "\n",
    "    print(\"x_train.shape = {} rows, {} cols\".format(*x_train.shape))\n",
    "    model = estimator.fit(x_train.fillna(fillna), y_train)\n",
    "\n",
    "    return model\n",
    "\n",
    "\n",
    "def evaluate_model(X: pd.DataFrame,\n",
    "                   y: pd.Series,\n",
    "                   communication_type: str,\n",
    "                   estimator,\n",
    "                   fillna=-9999\n",
    "                   ) -> float:\n",
    "    \"\"\"\n",
    "    Оценка качества модели с помощью метрики ROC-AUC.\n",
    "\n",
    "    Parameters\n",
    "    ----------\n",
    "    X: pandas.core.frame.DataFrame, shape = [n_samples, n_features]\n",
    "        Матрица признаков для оценки модели.\n",
    "\n",
    "    y: pandas.core.frame.Series, shape = [n_samples, 1]\n",
    "        Вектор целевой переменной для оценки модели.\n",
    "\n",
    "    communication_type: str\n",
    "        Вид коммуникации: \"CALL\", \"IVR\", \"SMS\", \"PUSH\", \"None\".\n",
    "\n",
    "    estimator: sklearn.callable\n",
    "        Объект Estimator, к которому был применен метод fit.\n",
    "\n",
    "    fillna: int/float, optional, default = -9999\n",
    "        Значение для заполнение пропусков в матрице признаков.\n",
    "        Опциональный параметр, по умолчанию, равен -9999.\n",
    "\n",
    "    Returns\n",
    "    -------\n",
    "    score: float\n",
    "        Значение метрики ROC-AUC.\n",
    "\n",
    "    \"\"\"\n",
    "    check_is_fitted(estimator)\n",
    "\n",
    "    mask = X[\"COMMUNICATION_TYPE\"] == communication_type\n",
    "    x_test = X.drop(\"COMMUNICATION_TYPE\", axis=1)\n",
    "    x_test, y_test = x_test.loc[mask], y.loc[mask]\n",
    "\n",
    "    y_pred = estimator.predict_proba(x_test.fillna(fillna))\n",
    "    score = roc_auc_score(y_test, y_pred[:, 1])\n",
    "\n",
    "    return score"
   ]
  },
  {
   "cell_type": "code",
   "execution_count": 8,
   "metadata": {},
   "outputs": [
    {
     "name": "stdout",
     "output_type": "stream",
     "text": [
      "x_train.shape = 30988 rows, 104 cols\n",
      "x_train.shape = 2369 rows, 104 cols\n",
      "Wall time: 4.99 s\n"
     ]
    }
   ],
   "source": [
    "%%time\n",
    "\n",
    "models = {}\n",
    "\n",
    "params = {\n",
    "    \"n_estimators\": 250,\n",
    "    \"max_depth\": 3,\n",
    "    \"random_state\": 27,\n",
    "    \"n_jobs\": 6\n",
    "}\n",
    "\n",
    "for comm_type in [TARGET_TYPE, \"None\"]:\n",
    "\n",
    "    model = fit_model(\n",
    "        X=x_train,\n",
    "        y=y_train,\n",
    "        communication_type=comm_type,\n",
    "        estimator=RandomForestClassifier(**params)\n",
    "    )\n",
    "    models[f\"{comm_type}_model\"] = model"
   ]
  },
  {
   "cell_type": "code",
   "execution_count": 9,
   "metadata": {},
   "outputs": [
    {
     "data": {
      "text/plain": [
       "{'SMS_model': RandomForestClassifier(bootstrap=True, ccp_alpha=0.0, class_weight=None,\n",
       "                        criterion='gini', max_depth=3, max_features='auto',\n",
       "                        max_leaf_nodes=None, max_samples=None,\n",
       "                        min_impurity_decrease=0.0, min_impurity_split=None,\n",
       "                        min_samples_leaf=1, min_samples_split=2,\n",
       "                        min_weight_fraction_leaf=0.0, n_estimators=250, n_jobs=6,\n",
       "                        oob_score=False, random_state=27, verbose=0,\n",
       "                        warm_start=False),\n",
       " 'None_model': RandomForestClassifier(bootstrap=True, ccp_alpha=0.0, class_weight=None,\n",
       "                        criterion='gini', max_depth=3, max_features='auto',\n",
       "                        max_leaf_nodes=None, max_samples=None,\n",
       "                        min_impurity_decrease=0.0, min_impurity_split=None,\n",
       "                        min_samples_leaf=1, min_samples_split=2,\n",
       "                        min_weight_fraction_leaf=0.0, n_estimators=250, n_jobs=6,\n",
       "                        oob_score=False, random_state=27, verbose=0,\n",
       "                        warm_start=False)}"
      ]
     },
     "execution_count": 9,
     "metadata": {},
     "output_type": "execute_result"
    }
   ],
   "source": [
    "models"
   ]
  },
  {
   "cell_type": "code",
   "execution_count": 10,
   "metadata": {},
   "outputs": [
    {
     "name": "stdout",
     "output_type": "stream",
     "text": [
      "Communication: SMS, Score: 0.7049007879884858\n",
      "Communication: None, Score: 0.6552424113676061\n"
     ]
    }
   ],
   "source": [
    "# Оценка качества модели\n",
    "\n",
    "for comm_type in [TARGET_TYPE, \"None\"]:\n",
    "    model = models[f\"{comm_type}_model\"]\n",
    "    score = evaluate_model(\n",
    "        X=x_test,\n",
    "        y=y_test,\n",
    "        communication_type=comm_type,\n",
    "        estimator=model\n",
    "    )\n",
    "    print(f\"Communication: {comm_type}, Score: {score}\")"
   ]
  },
  {
   "cell_type": "markdown",
   "metadata": {},
   "source": [
    "## 2. Применение моделей к тестовому набору данных"
   ]
  },
  {
   "cell_type": "markdown",
   "metadata": {},
   "source": [
    "Применим все построенные модели к тестовым данным, таким образом, мы получим вероятность дефолта (не внесения платежа) при коммуникации указанным способом. После чего, умножим вероятность дефолта на сумму платежа, таким образом мы получим математическое ожидание потерь при взаимодействии каждым способом. Наша задача минимизировать ожидаемые потери или максимизировать ожидаемую сумму поступающих платежей. Это одно и то же."
   ]
  },
  {
   "cell_type": "code",
   "execution_count": 11,
   "metadata": {},
   "outputs": [],
   "source": [
    "def create_predictions(models: dict, X: pd.DataFrame, fillna=-9999) -> pd.DataFrame:\n",
    "    \"\"\"\n",
    "    Применение семейства моделей к набору данных X.\n",
    "\n",
    "    Parameters\n",
    "    ----------\n",
    "    models: Dict[estimator]\n",
    "        Словарь с экземплярами обученных моделей.\n",
    "\n",
    "    X: pandas.core.frame.DataFrame, shape = [n_samples, n_features]\n",
    "        Матрица признаков для применения модели.\n",
    "\n",
    "    fillna: int/float, optional, default = -9999\n",
    "        Значение для заполнение пропусков в матрице признаков.\n",
    "        Опциональный параметр, по умолчанию, равен -9999.\n",
    "\n",
    "    Returns\n",
    "    -------\n",
    "    y_pred: pandas.core.frame.DataFrame, shape = [n_samples, len(models)]\n",
    "        Матрица с прогнозами всех моделей.\n",
    "\n",
    "    \"\"\"\n",
    "    y_pred = pd.DataFrame()\n",
    "    for model in models:\n",
    "        estimator = models[model]\n",
    "        score = estimator.predict_proba(X.fillna(fillna))[:, 1]\n",
    "        name = model.split(\"_\")[0]\n",
    "        y_pred[f\"{name}_SCORE\"] = score\n",
    "\n",
    "    return y_pred\n",
    "\n",
    "def calculate_expected_losses(scores: pd.DataFrame, X: pd.DataFrame) -> pd.DataFrame:\n",
    "    \"\"\"\n",
    "    Вычисление матрицы ожидаемых потерь при взаимодействии\n",
    "    каждым способом. Вычисляется как произведение вероятности\n",
    "    дефолта на величину платежа.\n",
    "\n",
    "    Parameters\n",
    "    ----------\n",
    "    scores: pandas.core.frame.DataFrame\n",
    "        Матрица вероятностей дефолта.\n",
    "\n",
    "    X: pandas.core.frame.DataFrame\n",
    "        Матрица признаков для применения модели.\n",
    "\n",
    "    Returns\n",
    "    -------\n",
    "    losses: pandas.core.frame.DataFrame\n",
    "        Матрица ожидаемых потерь.\n",
    "\n",
    "    \"\"\"\n",
    "    scores[\"SK_ID_CURR\"] = X[\"SK_ID_CURR\"]\n",
    "    scores[\"AMT_ANNUITY\"] = X[\"AMT_ANNUITY\"]\n",
    "    scores_columns = [col for col in scores.columns if \"SCORE\" in col]\n",
    "\n",
    "    for score in scores_columns:\n",
    "        name = score.split(\"_\")[0]\n",
    "        name = f\"EXPECTED_LOSS_{name}\"\n",
    "\n",
    "        scores[name] = scores[\"AMT_ANNUITY\"] * scores[score]\n",
    "\n",
    "    return scores"
   ]
  },
  {
   "cell_type": "code",
   "execution_count": 12,
   "metadata": {},
   "outputs": [],
   "source": [
    "x_test, y_test = test[x_train.columns], test[\"TARGET\"]\n",
    "x_test = x_test.drop(\"COMMUNICATION_TYPE\", axis=1)"
   ]
  },
  {
   "cell_type": "code",
   "execution_count": 13,
   "metadata": {},
   "outputs": [
    {
     "data": {
      "text/html": [
       "<div>\n",
       "<style scoped>\n",
       "    .dataframe tbody tr th:only-of-type {\n",
       "        vertical-align: middle;\n",
       "    }\n",
       "\n",
       "    .dataframe tbody tr th {\n",
       "        vertical-align: top;\n",
       "    }\n",
       "\n",
       "    .dataframe thead th {\n",
       "        text-align: right;\n",
       "    }\n",
       "</style>\n",
       "<table border=\"1\" class=\"dataframe\">\n",
       "  <thead>\n",
       "    <tr style=\"text-align: right;\">\n",
       "      <th></th>\n",
       "      <th>SMS_SCORE</th>\n",
       "      <th>None_SCORE</th>\n",
       "      <th>SK_ID_CURR</th>\n",
       "      <th>AMT_ANNUITY</th>\n",
       "      <th>EXPECTED_LOSS_SMS</th>\n",
       "      <th>EXPECTED_LOSS_None</th>\n",
       "    </tr>\n",
       "  </thead>\n",
       "  <tbody>\n",
       "    <tr>\n",
       "      <th>0</th>\n",
       "      <td>0.069364</td>\n",
       "      <td>0.061864</td>\n",
       "      <td>174545</td>\n",
       "      <td>31617.0</td>\n",
       "      <td>2193.092869</td>\n",
       "      <td>1955.939001</td>\n",
       "    </tr>\n",
       "    <tr>\n",
       "      <th>1</th>\n",
       "      <td>0.099717</td>\n",
       "      <td>0.076107</td>\n",
       "      <td>209898</td>\n",
       "      <td>25393.5</td>\n",
       "      <td>2532.169073</td>\n",
       "      <td>1932.614798</td>\n",
       "    </tr>\n",
       "  </tbody>\n",
       "</table>\n",
       "</div>"
      ],
      "text/plain": [
       "   SMS_SCORE  None_SCORE  SK_ID_CURR  AMT_ANNUITY  EXPECTED_LOSS_SMS  \\\n",
       "0   0.069364    0.061864      174545      31617.0        2193.092869   \n",
       "1   0.099717    0.076107      209898      25393.5        2532.169073   \n",
       "\n",
       "   EXPECTED_LOSS_None  \n",
       "0         1955.939001  \n",
       "1         1932.614798  "
      ]
     },
     "execution_count": 13,
     "metadata": {},
     "output_type": "execute_result"
    }
   ],
   "source": [
    "y_pred_test = create_predictions(models, x_test)\n",
    "y_pred_test = calculate_expected_losses(y_pred_test, test)\n",
    "y_pred_test = y_pred_test.dropna().reset_index(drop=True)\n",
    "\n",
    "y_pred_test.head(n=2)"
   ]
  },
  {
   "cell_type": "markdown",
   "metadata": {},
   "source": [
    "## Визуализируем данные для понимания распределений"
   ]
  },
  {
   "cell_type": "code",
   "execution_count": 14,
   "metadata": {},
   "outputs": [
    {
     "name": "stdout",
     "output_type": "stream",
     "text": [
      "Wall time: 39.5 s\n"
     ]
    },
    {
     "data": {
      "text/plain": [
       "[]"
      ]
     },
     "execution_count": 14,
     "metadata": {},
     "output_type": "execute_result"
    },
    {
     "data": {
      "image/png": "[encoded data removed]",
      "text/plain": [
       "<Figure size 1152x864 with 9 Axes>"
      ]
     },
     "metadata": {
      "needs_background": "light"
     },
     "output_type": "display_data"
    }
   ],
   "source": [
    "%%time\n",
    "\n",
    "figsize = (16, 12)\n",
    "\n",
    "cols_to_plot = [\n",
    "    \"AMT_ANNUITY\",\n",
    "    \"EXPECTED_LOSS_SMS\",\n",
    "    \"EXPECTED_LOSS_None\"\n",
    "]\n",
    "\n",
    "scatter_matrix(\n",
    "    frame=y_pred_test[cols_to_plot],\n",
    "    figsize=figsize,\n",
    "    diagonal=\"kde\"\n",
    ")\n",
    "plt.plot()"
   ]
  },
  {
   "cell_type": "markdown",
   "metadata": {},
   "source": [
    "## 3. Оптимизация типа взаимодействия"
   ]
  },
  {
   "cell_type": "code",
   "execution_count": 15,
   "metadata": {},
   "outputs": [],
   "source": [
    "stuffdict = {idx: (int(y_pred_test.loc[idx,  \"EXPECTED_LOSS_SMS\"]), 1)  for idx in y_pred_test.index}\n"
   ]
  },
  {
   "cell_type": "markdown",
   "metadata": {},
   "source": [
    "## 4. Создание списка значений площади и ценности\n",
    "\n",
    "Разделяем списки значений исходного словаря, например так:"
   ]
  },
  {
   "cell_type": "code",
   "execution_count": 16,
   "metadata": {},
   "outputs": [],
   "source": [
    "def get_area_and_values(stuffdict: dict):\n",
    "    area = [value[1] for value in stuffdict.values()]\n",
    "    value = [value[0] for value in stuffdict.values()]\n",
    "\n",
    "    return area, value"
   ]
  },
  {
   "cell_type": "markdown",
   "metadata": {},
   "source": [
    "## 5. Используем списки для мемоизации\n",
    "\n",
    "Пусть $n$ - общее число возможных коммуникаций, $А$ - их максимально допустимые затраты на коммуникации. Составим таблицу и $n + 1$ строк и $А + 1$ столбцов. Строки пронумеруем индексом $i$, столбцы - $a$, то есть в качестве номеров столбцов мы рассматриваем дискретные значения площади, отличающиеся друг от друга на 1."
   ]
  },
  {
   "cell_type": "code",
   "execution_count": 17,
   "metadata": {},
   "outputs": [],
   "source": [
    "def get_memtable(stuffdict, A: int = 200):\n",
    "    area, value = get_area_and_values(stuffdict)\n",
    "    n = len(value)\n",
    "\n",
    "    v = [[0 for a in range(A+1)] for i in range(n+1)]\n",
    "    for i in tqdm(range(n + 1)):\n",
    "        for a in range(A + 1):\n",
    "            if i == 0 or a == 0:\n",
    "                v[i][a] = 0 # базовый кейс\n",
    "\n",
    "            elif area[i-1] <= a:\n",
    "                # если площадь предмета меньше площади столбца\n",
    "                # то максимизируем значение суммарной ценности\n",
    "                v[i][a] = max(value[i-1] + v[i-1][a-area[i-1]], v[i-1][a])\n",
    "    \n",
    "            else:\n",
    "                # если площадь предмента больше площади столбца\n",
    "                # забираем значение ячейки из предыдущей строки\n",
    "                v[i][a] = v[i-1][a]\n",
    "    \n",
    "    return v, area, value"
   ]
  },
  {
   "cell_type": "markdown",
   "metadata": {},
   "source": [
    "Вначале создаем и заполняем таблицу в виде вложенных списков. Нулевую строку и нулевой столбец заполняем нулями. Это базовый случай: когда площадь или количество элементов равны нулю, значения ячейки равно нулю. Далее таблица значений будет заполняться строка за строкой слева направо и сверхну вниз. Если площадь текущего элемента меньше или равна площади текущей ячейки, вычислем значение ячейки следую правилу: `v[i][a] = max(value[i-1] + v[i-1][a-area[i-1]], v[i-1][a])`.\n",
    "\n",
    "Выбираем максимальное значение из двух значений:\n",
    "* сумма ценности текущего предмета `value[i-1]` и величины элемента из предыдущей строки `i-1` с площадью, меньшей на величину текущего предмета `area[i-1]`.\n",
    "* значение элемента предыдущей строки с той же площадью, то есть из того же столбца, что текущая ячейка. То же значение устанавливается в случае, если площадь текущей ячейки меньше, чем площадь текущего элемента."
   ]
  },
  {
   "cell_type": "code",
   "execution_count": 18,
   "metadata": {},
   "outputs": [],
   "source": [
    "def get_selected_items_list(stuffdict, A=200):\n",
    "    v, area, value = get_memtable(stuffdict, A)\n",
    "    n, res = len(value), v[len(value)][A]\n",
    "    a, items_list = A, []\n",
    "\n",
    "    for i in range(n, 0, -1):\n",
    "        if res <= 0:\n",
    "            break\n",
    "        if res == v[i-1][a]:\n",
    "            continue\n",
    "        else:\n",
    "            items_list.append((value[i-1], area[i-1]))\n",
    "            res -= value[i-1]\n",
    "            a -= area[i-1]\n",
    "    items_list = set(items_list)\n",
    "\n",
    "    selected_stuff = []\n",
    "    for search in items_list:\n",
    "        for key, value in stuffdict.items():\n",
    "            if value == search:\n",
    "                selected_stuff.append(key)\n",
    "\n",
    "    return selected_stuff"
   ]
  },
  {
   "cell_type": "code",
   "execution_count": 19,
   "metadata": {},
   "outputs": [
    {
     "name": "stderr",
     "output_type": "stream",
     "text": [
      "100%|████████████████████████████████████████████████████████████████████████| 123003/123003 [01:48<00:00, 1134.96it/s]\n"
     ]
    },
    {
     "name": "stdout",
     "output_type": "stream",
     "text": [
      "Wall time: 2min 3s\n"
     ]
    }
   ],
   "source": [
    "%%time\n",
    "\n",
    "# найденный оптимальный список предметов\n",
    "stuff = get_selected_items_list(stuffdict, A=500)\n"
   ]
  },
  {
   "cell_type": "code",
   "execution_count": 20,
   "metadata": {},
   "outputs": [
    {
     "name": "stdout",
     "output_type": "stream",
     "text": [
      "total_area = 4124979\n",
      "total_value  500\n",
      "Wall time: 995 µs\n"
     ]
    }
   ],
   "source": [
    "%%time\n",
    "\n",
    "# проверим суммарную площадь и ценности предметов\n",
    "total_area = sum([stuffdict[item][0] for item in stuff])\n",
    "total_value = sum([stuffdict[item][1] for item in stuff])\n",
    "\n",
    "print(f\"total_area = {total_area}\")\n",
    "print(f\"total_value  {total_value}\")"
   ]
  },
  {
   "cell_type": "code",
   "execution_count": 21,
   "metadata": {},
   "outputs": [],
   "source": [
    "# визуализация результат оптимизации\n",
    "def plot_memtable(V, stuffdict):\n",
    "    plt.figure(figsize=(30,15))\n",
    "    item_list = list(stuffdict.keys())\n",
    "    item_list.insert(0, 'empty')\n",
    "    sns.heatmap(V, yticklabels=item_list)\n",
    "    plt.yticks(size=25)\n",
    "    plt.xlabel('Area', size=25)\n",
    "    plt.ylabel('Added item', size=25)\n",
    "    plt.title('Value for Area with Set of Items', size=30)\n",
    "    plt.show()"
   ]
  },
  {
   "cell_type": "code",
   "execution_count": 22,
   "metadata": {},
   "outputs": [
    {
     "name": "stderr",
     "output_type": "stream",
     "text": [
      "100%|████████████████████████████████████████████████████████████████████████| 123003/123003 [01:48<00:00, 1128.48it/s]"
     ]
    },
    {
     "name": "stdout",
     "output_type": "stream",
     "text": [
      "Wall time: 1min 56s\n"
     ]
    },
    {
     "name": "stderr",
     "output_type": "stream",
     "text": [
      "\n"
     ]
    }
   ],
   "source": [
    "%%time\n",
    "v, area, value = get_memtable(stuffdict, A=500)"
   ]
  },
  {
   "cell_type": "code",
   "execution_count": 23,
   "metadata": {},
   "outputs": [],
   "source": [
    "# plot_memtable(v, stuffdict)"
   ]
  },
  {
   "cell_type": "markdown",
   "metadata": {},
   "source": [
    "Вывод: прогнозируемая ценность для для выборки из 500 смс составит 4124979"
   ]
  },
  {
   "cell_type": "code",
   "execution_count": null,
   "metadata": {},
   "outputs": [],
   "source": []
  }
 ],
 "metadata": {
  "kernelspec": {
   "display_name": "Python 3",
   "language": "python",
   "name": "python3"
  },
  "language_info": {
   "codemirror_mode": {
    "name": "ipython",
    "version": 3
   },
   "file_extension": ".py",
   "mimetype": "text/x-python",
   "name": "python",
   "nbconvert_exporter": "python",
   "pygments_lexer": "ipython3",
   "version": "3.7.6"
  }
 },
 "nbformat": 4,
 "nbformat_minor": 4
}
