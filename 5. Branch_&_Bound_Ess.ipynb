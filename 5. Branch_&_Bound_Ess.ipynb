{
 "cells": [
  {
   "cell_type": "markdown",
   "metadata": {},
   "source": [
    "Практическое задание\n",
    "\n",
    "Для выполнения работ P_1, P_2, P_3 сельскохозяйственное предприятие может приобрести тракторы марок А и B стоимостью соответственно c_1 и c_2 ден. ед. каждый. С использованием новой техники необходимо выполнить не менее b_1 условных единиц работы P_1 не менее b_2 условных единиц работы P_2 и не менее b_3 условных единиц работы P_3. За рассматриваемый промежуток времени с использованием трактора марки A можно выполнить a_11 условных единиц работы P_1, a_21 условных единиц работы P_2 или a_31 условных единиц работы P_3; с использованием трактора марки Б – a_12 условных единиц работы P_1, a_22 условных единиц работы P_2 или a_23 условных единиц работы P_3.\n",
    "\n",
    "Требуется:\n",
    "\n",
    "Составить экономико-математическую модель, позволяющую найти такой вариант приобретения тракторов той или другой марки, при котором будут выполнены все необходимые работы, а затраты на новую технику будут минимальны;\n",
    "Пользуясь методом ветвей и границ, найти оптимальный вариант приобретения тракторов.\n",
    "\n",
    "b_1 = 20, b_2 = 190, b_3 = 88, a_11 = 4, a_21 = 19, a_31=4, a_12 = 1, a_22 = 15, a_32 = 15, c_1= 3, c_2 = 5"
   ]
  },
  {
   "cell_type": "markdown",
   "metadata": {},
   "source": [
    "**Решение:**\n",
    "\n",
    "Обозначим переменные:\n",
    "\n",
    "$x_1$ - целевое приобретение техники марки A\n",
    "$x_2$ - целевое приобретение техники марки B\n",
    "\n",
    "$x_1 = x_{11} + x_{21} + x_{31}$ - распределение техники A по видам работ ###\n",
    "\n",
    "$x_2 = x_{12} + x_{22} + x_{32}$ - распределение техники B по видам работ ###\n",
    "\n",
    "Целевая функция, выражающая стоимость техники:\n",
    "\n",
    "$f = c_1\\cdot x_1 + c_2\\cdot x_2$\n",
    "\n",
    "$f = 3x_1 + 5x_2$\n",
    "\n",
    "Функция выполняемых работ:\n",
    "\n",
    "$f = x_1(a_{11} + a_{21} + a_{31}) + x_2(a_{12} + a_{22} + a_{32})$\n",
    "\n",
    "$f = x_1(4 + 19 + 4) + x_2(1 + 15 + 15)$\n",
    "\n",
    "Ограничения:\n",
    "\n",
    "$4x_1+x_2 <= 20$\n",
    "\n",
    "$19x_1+15x_2 <= 190$\n",
    "\n",
    "$4x_1+15x_2 <= 88$\n",
    "\n",
    "$x_1, x_2 >= 0$"
   ]
  },
  {
   "cell_type": "markdown",
   "metadata": {},
   "source": [
    "Целевая функция будет иметь следующий вид:\n",
    "\n",
    "$f = 3x_1 + 5x_2 \\rightarrow min$\n",
    "\n",
    "$\\left\\{ \\begin{matrix}\n",
    "4x_1+x_2 \\leq 20 \\\\\n",
    "19x_1+15x_2 \\leq 190 \\\\\n",
    "4x_1+15x_2 \\leq 88\n",
    "\\end{matrix} \\right.$\n",
    "\n",
    "$x_1 >=0, x_2 >=0$"
   ]
  },
  {
   "cell_type": "code",
   "execution_count": 1,
   "metadata": {},
   "outputs": [
    {
     "name": "stderr",
     "output_type": "stream",
     "text": [
      "C:\\Users\\Nickel\\anaconda3\\lib\\site-packages\\ipykernel_launcher.py:5: FutureWarning: `rcond` parameter will change to the default of machine precision times ``max(M, N)`` where M and N are the input matrix dimensions.\n",
      "To use the future default and silence this warning we advise to pass `rcond=None`, to keep using the old, explicitly pass `rcond=-1`.\n",
      "  \"\"\"\n"
     ]
    },
    {
     "data": {
      "text/plain": [
       "array([6.50467155, 4.25691714])"
      ]
     },
     "execution_count": 1,
     "metadata": {},
     "output_type": "execute_result"
    }
   ],
   "source": [
    "import numpy as np\n",
    "\n",
    "A1 = np.array([[4., 1.], [19., 15.], [4., 15.]])\n",
    "b1 = np.array([20., 190., 88.])\n",
    "np.linalg.lstsq(A1, b1)[0]"
   ]
  },
  {
   "cell_type": "markdown",
   "metadata": {},
   "source": [
    "$x_1, x_2$ - целые. \n",
    "Решим полученную задачу симплексным или графическим методом с отброшенным условием целочисленности. Получаем:\n",
    "\n",
    "$x_1 = 6.5 , x_2 = 4.26,  f_{min} = 40.8 $\n",
    "\n",
    "Ответ получился нецелым, поэтому решим задачу линейного программирования методом ветвей и границ.\n",
    "\n",
    "Обе переменные имеют нецелые значения. Выбор переменной $x_2$  порождает две подзадачи:\n"
   ]
  },
  {
   "cell_type": "code",
   "execution_count": 2,
   "metadata": {},
   "outputs": [],
   "source": [
    "sentA = \"\"\"Init Task:\\l\n",
    "f = 3x_1 + 5x_2 --> min\n",
    "4x_1 + x_2 >= 20\n",
    "19x_1 + 15x_2 >= 190\n",
    "4x_1 + 15x_2 >= 88\n",
    "\n",
    "Solution:\\l\n",
    "x_1 = 6.5, x_2 = 4.26, f_min = 40.8\"\"\"\n",
    "\n",
    "sentB = \"\"\"Subtask 1:\\l\n",
    "f = 3x_1 + 5x_2 --> min\n",
    "4x_1 + x_2 >= 20\n",
    "19x_1 + 15x_2 >= 190\n",
    "4x_1 + 15x_2 >= 88\n",
    "\n",
    "x_1 <= 6, x_2 >= 5\"\"\"\n",
    "\n",
    "sentC = \"\"\"Subtask 2:\\l\n",
    "f = 3x_1 + 5x_2 --> min\n",
    "4x_1 + x_2 >= 20\n",
    "19x_1 + 15x_2 >= 190\n",
    "4x_1 + 15x_2 >= 88\n",
    "\n",
    "x_1 >= 7, x_2 <= 4\"\"\""
   ]
  },
  {
   "cell_type": "code",
   "execution_count": 3,
   "metadata": {},
   "outputs": [
    {
     "name": "stdout",
     "output_type": "stream",
     "text": [
      "digraph {\n",
      "\tgraph [splines=polyline]\n",
      "\tnode [shape=box]\n",
      "\tedge [dir=forward]\n",
      "\tA [label=\"Init Task:\\l\n",
      "f = 3x_1 + 5x_2 --> min\n",
      "4x_1 + x_2 >= 20\n",
      "19x_1 + 15x_2 >= 190\n",
      "4x_1 + 15x_2 >= 88\n",
      "\n",
      "Solution:\\l\n",
      "x_1 = 6.5, x_2 = 4.26, f_min = 40.8\"]\n",
      "\tB [label=\"Subtask 1:\\l\n",
      "f = 3x_1 + 5x_2 --> min\n",
      "4x_1 + x_2 >= 20\n",
      "19x_1 + 15x_2 >= 190\n",
      "4x_1 + 15x_2 >= 88\n",
      "\n",
      "x_1 <= 6, x_2 >= 5\"]\n",
      "\tC [label=\"Subtask 2:\\l\n",
      "f = 3x_1 + 5x_2 --> min\n",
      "4x_1 + x_2 >= 20\n",
      "19x_1 + 15x_2 >= 190\n",
      "4x_1 + 15x_2 >= 88\n",
      "\n",
      "x_1 >= 7, x_2 <= 4\"]\n",
      "\tA -> B\n",
      "\tA -> C\n",
      "}\n"
     ]
    },
    {
     "data": {
      "text/plain": [
       "'graph.png'"
      ]
     },
     "execution_count": 3,
     "metadata": {},
     "output_type": "execute_result"
    }
   ],
   "source": [
    "from graphviz import Digraph\n",
    "import os\n",
    "os.environ[\"PATH\"] += os.pathsep + 'C:/Users/Nickel/anaconda3/pkgs/graphviz-2.38-hfd603c8_2/Library/bin/graphviz'\n",
    "\n",
    "\n",
    "dot = Digraph(format='png',\n",
    "              filename='graph',\n",
    "              node_attr={'shape':'box'},\n",
    "              graph_attr={'splines':'polyline'},\n",
    "              edge_attr={'dir':'forward'})\n",
    "\n",
    "dot.node('A', sentA)\n",
    "dot.node('B', sentB)\n",
    "dot.node('C', sentC)\n",
    "\n",
    "dot.edges(['AB', 'AC'])\n",
    "\n",
    "print(dot.source)\n",
    "dot.view()"
   ]
  },
  {
   "cell_type": "markdown",
   "metadata": {},
   "source": [
    "![graph.png](graph.png)"
   ]
  },
  {
   "cell_type": "code",
   "execution_count": 4,
   "metadata": {},
   "outputs": [
    {
     "name": "stdout",
     "output_type": "stream",
     "text": [
      "f_min 41 \n",
      "\n",
      "32 >= 20\n",
      "193 >= 190\n",
      "88 >= 88\n"
     ]
    }
   ],
   "source": [
    "x1, x2 = 7, 4\n",
    "\n",
    "print('f_min',3*x1 + 5*x2,'\\n')\n",
    "print(4*x1+x2, '>= 20')\n",
    "print(19*x1+15*x2, '>= 190')\n",
    "print(4*x1+15*x2, '>= 88')"
   ]
  },
  {
   "cell_type": "markdown",
   "metadata": {},
   "source": [
    "оптимальный план 1-й подзадачи c дополнительным ограничением:\n",
    "\n",
    "$x_1 = 7 , x_2 = 4,  f_{min} = 41 $\n",
    "\n",
    "Получен целочисленный ответ – исходная задача целочисленного программирования решена.\n",
    "\n",
    "Следует закупать 7 ед. оборудования типа A  и 4 ед. оборудования типа B при стоимости 41 у.д.е."
   ]
  },
  {
   "cell_type": "code",
   "execution_count": null,
   "metadata": {},
   "outputs": [],
   "source": []
  }
 ],
 "metadata": {
  "kernelspec": {
   "display_name": "Python 3",
   "language": "python",
   "name": "python3"
  },
  "language_info": {
   "codemirror_mode": {
    "name": "ipython",
    "version": 3
   },
   "file_extension": ".py",
   "mimetype": "text/x-python",
   "name": "python",
   "nbconvert_exporter": "python",
   "pygments_lexer": "ipython3",
   "version": "3.7.6"
  }
 },
 "nbformat": 4,
 "nbformat_minor": 4
}
